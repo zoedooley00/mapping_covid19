{
 "cells": [
  {
   "cell_type": "code",
   "execution_count": 1,
   "id": "3ce3462e-1d0c-4b09-8b9f-5b924ac4aee2",
   "metadata": {
    "scrolled": true,
    "tags": []
   },
   "outputs": [
    {
     "name": "stdout",
     "output_type": "stream",
     "text": [
      "Requirement already satisfied: geopandas in /Users/zoedooley/opt/anaconda3/envs/pygdal/lib/python3.10/site-packages (0.10.2)\n",
      "Requirement already satisfied: pyproj>=2.2.0 in /Users/zoedooley/opt/anaconda3/envs/pygdal/lib/python3.10/site-packages (from geopandas) (3.3.1)\n",
      "Requirement already satisfied: fiona>=1.8 in /Users/zoedooley/opt/anaconda3/envs/pygdal/lib/python3.10/site-packages (from geopandas) (1.8.21)\n",
      "Requirement already satisfied: shapely>=1.6 in /Users/zoedooley/opt/anaconda3/envs/pygdal/lib/python3.10/site-packages (from geopandas) (1.8.1.post1)\n",
      "Requirement already satisfied: pandas>=0.25.0 in /Users/zoedooley/opt/anaconda3/envs/pygdal/lib/python3.10/site-packages (from geopandas) (1.4.2)\n",
      "Requirement already satisfied: six>=1.7 in /Users/zoedooley/opt/anaconda3/envs/pygdal/lib/python3.10/site-packages (from fiona>=1.8->geopandas) (1.16.0)\n",
      "Requirement already satisfied: click-plugins>=1.0 in /Users/zoedooley/opt/anaconda3/envs/pygdal/lib/python3.10/site-packages (from fiona>=1.8->geopandas) (1.1.1)\n",
      "Requirement already satisfied: setuptools in /Users/zoedooley/opt/anaconda3/envs/pygdal/lib/python3.10/site-packages (from fiona>=1.8->geopandas) (60.10.0)\n",
      "Requirement already satisfied: click>=4.0 in /Users/zoedooley/opt/anaconda3/envs/pygdal/lib/python3.10/site-packages (from fiona>=1.8->geopandas) (8.1.2)\n",
      "Requirement already satisfied: cligj>=0.5 in /Users/zoedooley/opt/anaconda3/envs/pygdal/lib/python3.10/site-packages (from fiona>=1.8->geopandas) (0.7.2)\n",
      "Requirement already satisfied: attrs>=17 in /Users/zoedooley/opt/anaconda3/envs/pygdal/lib/python3.10/site-packages (from fiona>=1.8->geopandas) (21.4.0)\n",
      "Requirement already satisfied: munch in /Users/zoedooley/opt/anaconda3/envs/pygdal/lib/python3.10/site-packages (from fiona>=1.8->geopandas) (2.5.0)\n",
      "Requirement already satisfied: certifi in /Users/zoedooley/opt/anaconda3/envs/pygdal/lib/python3.10/site-packages (from fiona>=1.8->geopandas) (2020.6.20)\n",
      "Requirement already satisfied: pytz>=2020.1 in /Users/zoedooley/opt/anaconda3/envs/pygdal/lib/python3.10/site-packages (from pandas>=0.25.0->geopandas) (2021.3)\n",
      "Requirement already satisfied: numpy>=1.21.0 in /Users/zoedooley/opt/anaconda3/envs/pygdal/lib/python3.10/site-packages (from pandas>=0.25.0->geopandas) (1.22.3)\n",
      "Requirement already satisfied: python-dateutil>=2.8.1 in /Users/zoedooley/opt/anaconda3/envs/pygdal/lib/python3.10/site-packages (from pandas>=0.25.0->geopandas) (2.8.2)\n"
     ]
    }
   ],
   "source": [
    "!pip install geopandas"
   ]
  },
  {
   "cell_type": "code",
   "execution_count": 2,
   "id": "bf709a65-3f5e-4528-9c1d-02a991fde414",
   "metadata": {},
   "outputs": [],
   "source": [
    "from osgeo import gdal\n",
    "import geopandas as gpd\n",
    "import fiona"
   ]
  },
  {
   "cell_type": "code",
   "execution_count": 3,
   "id": "b0f77933-2ed9-4bf1-9dd5-3aceaaad276a",
   "metadata": {},
   "outputs": [
    {
     "data": {
      "text/html": [
       "<div>\n",
       "<style scoped>\n",
       "    .dataframe tbody tr th:only-of-type {\n",
       "        vertical-align: middle;\n",
       "    }\n",
       "\n",
       "    .dataframe tbody tr th {\n",
       "        vertical-align: top;\n",
       "    }\n",
       "\n",
       "    .dataframe thead th {\n",
       "        text-align: right;\n",
       "    }\n",
       "</style>\n",
       "<table border=\"1\" class=\"dataframe\">\n",
       "  <thead>\n",
       "    <tr style=\"text-align: right;\">\n",
       "      <th></th>\n",
       "      <th>county</th>\n",
       "      <th>state</th>\n",
       "      <th>fips</th>\n",
       "      <th>cases</th>\n",
       "      <th>deaths</th>\n",
       "      <th>geometry</th>\n",
       "    </tr>\n",
       "  </thead>\n",
       "  <tbody>\n",
       "    <tr>\n",
       "      <th>0</th>\n",
       "      <td>Bladen</td>\n",
       "      <td>North Carolina</td>\n",
       "      <td>37017</td>\n",
       "      <td>1814</td>\n",
       "      <td>24</td>\n",
       "      <td>POINT (-78.56180 34.61296)</td>\n",
       "    </tr>\n",
       "    <tr>\n",
       "      <th>1</th>\n",
       "      <td>Stanly</td>\n",
       "      <td>North Carolina</td>\n",
       "      <td>37167</td>\n",
       "      <td>4287</td>\n",
       "      <td>78</td>\n",
       "      <td>POINT (-80.25094 35.31648)</td>\n",
       "    </tr>\n",
       "    <tr>\n",
       "      <th>2</th>\n",
       "      <td>Summit</td>\n",
       "      <td>Ohio</td>\n",
       "      <td>39153</td>\n",
       "      <td>27614</td>\n",
       "      <td>577</td>\n",
       "      <td>POINT (-81.53123 41.12465)</td>\n",
       "    </tr>\n",
       "    <tr>\n",
       "      <th>3</th>\n",
       "      <td>Sullivan</td>\n",
       "      <td>Pennsylvania</td>\n",
       "      <td>42113</td>\n",
       "      <td>143</td>\n",
       "      <td>2</td>\n",
       "      <td>POINT (-76.51247 41.44635)</td>\n",
       "    </tr>\n",
       "    <tr>\n",
       "      <th>4</th>\n",
       "      <td>Upshur</td>\n",
       "      <td>Texas</td>\n",
       "      <td>48459</td>\n",
       "      <td>1746</td>\n",
       "      <td>31</td>\n",
       "      <td>POINT (-94.93857 32.73936)</td>\n",
       "    </tr>\n",
       "  </tbody>\n",
       "</table>\n",
       "</div>"
      ],
      "text/plain": [
       "     county           state   fips  cases  deaths                    geometry\n",
       "0    Bladen  North Carolina  37017   1814      24  POINT (-78.56180 34.61296)\n",
       "1    Stanly  North Carolina  37167   4287      78  POINT (-80.25094 35.31648)\n",
       "2    Summit            Ohio  39153  27614     577  POINT (-81.53123 41.12465)\n",
       "3  Sullivan    Pennsylvania  42113    143       2  POINT (-76.51247 41.44635)\n",
       "4    Upshur           Texas  48459   1746      31  POINT (-94.93857 32.73936)"
      ]
     },
     "execution_count": 3,
     "metadata": {},
     "output_type": "execute_result"
    }
   ],
   "source": [
    "counts = gpd.read_file(\"us-covid-2020-counts.shp\")\n",
    "counts.head()"
   ]
  },
  {
   "cell_type": "code",
   "execution_count": 5,
   "id": "506706bf-d0cb-4ace-a426-dbbb7ab72f8d",
   "metadata": {},
   "outputs": [
    {
     "data": {
      "text/html": [
       "<div>\n",
       "<style scoped>\n",
       "    .dataframe tbody tr th:only-of-type {\n",
       "        vertical-align: middle;\n",
       "    }\n",
       "\n",
       "    .dataframe tbody tr th {\n",
       "        vertical-align: top;\n",
       "    }\n",
       "\n",
       "    .dataframe thead th {\n",
       "        text-align: right;\n",
       "    }\n",
       "</style>\n",
       "<table border=\"1\" class=\"dataframe\">\n",
       "  <thead>\n",
       "    <tr style=\"text-align: right;\">\n",
       "      <th></th>\n",
       "      <th>county</th>\n",
       "      <th>state</th>\n",
       "      <th>fips</th>\n",
       "      <th>cases</th>\n",
       "      <th>deaths</th>\n",
       "      <th>pop18</th>\n",
       "      <th>rates</th>\n",
       "      <th>geometry</th>\n",
       "    </tr>\n",
       "  </thead>\n",
       "  <tbody>\n",
       "    <tr>\n",
       "      <th>0</th>\n",
       "      <td>Bladen</td>\n",
       "      <td>North Carolina</td>\n",
       "      <td>37017</td>\n",
       "      <td>1814</td>\n",
       "      <td>24</td>\n",
       "      <td>33778</td>\n",
       "      <td>53.704</td>\n",
       "      <td>POLYGON ((-78.90200 34.83527, -78.79960 34.850...</td>\n",
       "    </tr>\n",
       "    <tr>\n",
       "      <th>1</th>\n",
       "      <td>Stanly</td>\n",
       "      <td>North Carolina</td>\n",
       "      <td>37167</td>\n",
       "      <td>4287</td>\n",
       "      <td>78</td>\n",
       "      <td>61114</td>\n",
       "      <td>70.148</td>\n",
       "      <td>POLYGON ((-80.49737 35.20210, -80.29542 35.502...</td>\n",
       "    </tr>\n",
       "    <tr>\n",
       "      <th>2</th>\n",
       "      <td>Summit</td>\n",
       "      <td>Ohio</td>\n",
       "      <td>39153</td>\n",
       "      <td>27614</td>\n",
       "      <td>577</td>\n",
       "      <td>541810</td>\n",
       "      <td>50.966</td>\n",
       "      <td>POLYGON ((-81.68699 41.13596, -81.68495 41.277...</td>\n",
       "    </tr>\n",
       "    <tr>\n",
       "      <th>3</th>\n",
       "      <td>Sullivan</td>\n",
       "      <td>Pennsylvania</td>\n",
       "      <td>42113</td>\n",
       "      <td>143</td>\n",
       "      <td>2</td>\n",
       "      <td>6177</td>\n",
       "      <td>23.150</td>\n",
       "      <td>POLYGON ((-76.81373 41.59003, -76.22014 41.541...</td>\n",
       "    </tr>\n",
       "    <tr>\n",
       "      <th>4</th>\n",
       "      <td>Upshur</td>\n",
       "      <td>Texas</td>\n",
       "      <td>48459</td>\n",
       "      <td>1746</td>\n",
       "      <td>31</td>\n",
       "      <td>40769</td>\n",
       "      <td>42.827</td>\n",
       "      <td>POLYGON ((-95.15274 32.66095, -95.15211 32.902...</td>\n",
       "    </tr>\n",
       "  </tbody>\n",
       "</table>\n",
       "</div>"
      ],
      "text/plain": [
       "     county           state   fips  cases  deaths   pop18   rates  \\\n",
       "0    Bladen  North Carolina  37017   1814      24   33778  53.704   \n",
       "1    Stanly  North Carolina  37167   4287      78   61114  70.148   \n",
       "2    Summit            Ohio  39153  27614     577  541810  50.966   \n",
       "3  Sullivan    Pennsylvania  42113    143       2    6177  23.150   \n",
       "4    Upshur           Texas  48459   1746      31   40769  42.827   \n",
       "\n",
       "                                            geometry  \n",
       "0  POLYGON ((-78.90200 34.83527, -78.79960 34.850...  \n",
       "1  POLYGON ((-80.49737 35.20210, -80.29542 35.502...  \n",
       "2  POLYGON ((-81.68699 41.13596, -81.68495 41.277...  \n",
       "3  POLYGON ((-76.81373 41.59003, -76.22014 41.541...  \n",
       "4  POLYGON ((-95.15274 32.66095, -95.15211 32.902...  "
      ]
     },
     "execution_count": 5,
     "metadata": {},
     "output_type": "execute_result"
    }
   ],
   "source": [
    "rates = gpd.read_file(\"us-covid-2020-rates.shp\")\n",
    "rates.head()"
   ]
  },
  {
   "cell_type": "code",
   "execution_count": 7,
   "id": "f3850103-39ba-426c-a622-7eeac9d88087",
   "metadata": {},
   "outputs": [],
   "source": [
    "counts = counts[[\"county\", \"cases\", \"geometry\"]]\n",
    "rates = rates[[\"county\", \"rates\", \"geometry\"]]"
   ]
  },
  {
   "cell_type": "code",
   "execution_count": null,
   "id": "3a1950c1-ad1f-42c2-993f-9bbb858cb9ff",
   "metadata": {},
   "outputs": [],
   "source": []
  }
 ],
 "metadata": {
  "kernelspec": {
   "display_name": "Python 3 (ipykernel)",
   "language": "python",
   "name": "python3"
  },
  "language_info": {
   "codemirror_mode": {
    "name": "ipython",
    "version": 3
   },
   "file_extension": ".py",
   "mimetype": "text/x-python",
   "name": "python",
   "nbconvert_exporter": "python",
   "pygments_lexer": "ipython3",
   "version": "3.10.2"
  }
 },
 "nbformat": 4,
 "nbformat_minor": 5
}
